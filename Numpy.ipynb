{
 "cells": [
  {
   "cell_type": "code",
   "execution_count": 1,
   "id": "99a30bd5-82d3-46f7-b911-6ac97a71785d",
   "metadata": {},
   "outputs": [],
   "source": [
    "import numpy as np"
   ]
  },
  {
   "cell_type": "code",
   "execution_count": 2,
   "id": "2ec73812-9f5c-47da-bb89-415fcf2e5f08",
   "metadata": {},
   "outputs": [
    {
     "name": "stdout",
     "output_type": "stream",
     "text": [
      "[1 2 3 4 5]\n",
      "<class 'numpy.ndarray'>\n"
     ]
    }
   ],
   "source": [
    "arr=np.array([1,2,3,4,5])\n",
    "print(arr)\n",
    "print(type(arr))"
   ]
  },
  {
   "cell_type": "code",
   "execution_count": 3,
   "id": "472baae0-40c9-46e9-bc94-fd08243ed318",
   "metadata": {},
   "outputs": [
    {
     "name": "stdout",
     "output_type": "stream",
     "text": [
      "[ 1  3  4 45  5]\n",
      "<class 'numpy.ndarray'>\n"
     ]
    }
   ],
   "source": [
    " arr= np.array((1,3,4,45,5))\n",
    "print(arr)\n",
    "print(type(arr))"
   ]
  },
  {
   "cell_type": "raw",
   "id": "c654c5df-c360-49bd-827e-3da9f09f3dd3",
   "metadata": {},
   "source": [
    "Dimensions in an array\n"
   ]
  },
  {
   "cell_type": "markdown",
   "id": "37c1b0d4-ed02-464e-b5b0-c0bbb8e7554d",
   "metadata": {},
   "source": [
    "0 dimension Array"
   ]
  },
  {
   "cell_type": "code",
   "execution_count": 5,
   "id": "6629d6f4-b7ce-48b5-bd00-6412a2fcfc33",
   "metadata": {},
   "outputs": [
    {
     "name": "stdout",
     "output_type": "stream",
     "text": [
      "20\n",
      "<class 'numpy.ndarray'>\n",
      "0\n"
     ]
    }
   ],
   "source": [
    "arr=np.array(20)\n",
    "print(arr)\n",
    "print(type(arr))\n",
    "print(arr.ndim)"
   ]
  },
  {
   "cell_type": "markdown",
   "id": "eab9834e-fd09-4b00-b552-83558dbd39d8",
   "metadata": {},
   "source": [
    "1 dimension array"
   ]
  },
  {
   "cell_type": "code",
   "execution_count": 10,
   "id": "dd7aee9d-5002-49e6-a3cf-ef788d1222f0",
   "metadata": {},
   "outputs": [
    {
     "name": "stdout",
     "output_type": "stream",
     "text": [
      "[2 4 5 3]\n",
      "1\n"
     ]
    }
   ],
   "source": [
    "arr=np.array([2,4,5,3])\n",
    "print(arr)\n",
    "print(arr.ndim)"
   ]
  },
  {
   "cell_type": "markdown",
   "id": "35b74b33-1c90-4c78-9aa5-218b09c34c22",
   "metadata": {},
   "source": [
    "2 Dimension Array"
   ]
  },
  {
   "cell_type": "code",
   "execution_count": 7,
   "id": "cef50ee7-0325-4ad8-b0be-c441daaa8dad",
   "metadata": {},
   "outputs": [
    {
     "name": "stdout",
     "output_type": "stream",
     "text": [
      "2\n"
     ]
    }
   ],
   "source": [
    "arr=np.array([[1,3,4],[32,4,5]])\n",
    "print(arr.ndim)"
   ]
  },
  {
   "cell_type": "code",
   "execution_count": 8,
   "id": "a0d2f530-f409-46fc-89e9-5aeb3232af45",
   "metadata": {},
   "outputs": [
    {
     "name": "stdout",
     "output_type": "stream",
     "text": [
      "[[ 1  3  4]\n",
      " [32  4  5]]\n"
     ]
    }
   ],
   "source": [
    "print(arr)"
   ]
  },
  {
   "cell_type": "markdown",
   "id": "b8fcab29-1303-42ff-8158-00f25d029ce0",
   "metadata": {},
   "source": [
    "3 d array"
   ]
  },
  {
   "cell_type": "code",
   "execution_count": 12,
   "id": "dbf62f9f-41ec-4e37-b95e-99d49a248103",
   "metadata": {},
   "outputs": [
    {
     "name": "stdout",
     "output_type": "stream",
     "text": [
      "[[[2 3 4 5]\n",
      "  [3 4 5 5]\n",
      "  [3 4 5 5]]]\n",
      "3\n"
     ]
    }
   ],
   "source": [
    "arr= np.array([[[2,3,4,5],[3,4,5,5],[3,4,5,5]]])\n",
    "print(arr)\n",
    "print(arr.ndim)"
   ]
  },
  {
   "cell_type": "markdown",
   "id": "a18a74b4-c482-4a16-be91-ed9de703fa53",
   "metadata": {},
   "source": [
    "ANOTHER METHODD TO CREATE N DIMENSIONAL ARRAY"
   ]
  },
  {
   "cell_type": "code",
   "execution_count": 13,
   "id": "bea6946e-1cbf-459d-8c68-c9e5d3dde22f",
   "metadata": {},
   "outputs": [
    {
     "name": "stdout",
     "output_type": "stream",
     "text": [
      "[[[[[1 3 4 4]]]]]\n",
      "<class 'numpy.ndarray'>\n",
      "5\n"
     ]
    }
   ],
   "source": [
    "arr= np.array([1,3,4,4],ndmin=5)\n",
    "print(arr)\n",
    "print(type(arr))\n",
    "print(arr.ndim)"
   ]
  },
  {
   "cell_type": "markdown",
   "id": "8a02e8eb-92ba-4214-a65a-4b326a26b1b1",
   "metadata": {},
   "source": [
    "INDEXING IN ARRAY"
   ]
  },
  {
   "cell_type": "code",
   "execution_count": 14,
   "id": "76ab4a2e-e636-4b5d-8428-c64ff0d4c75c",
   "metadata": {},
   "outputs": [
    {
     "name": "stdout",
     "output_type": "stream",
     "text": [
      "4\n"
     ]
    }
   ],
   "source": [
    "arr= np.array([32,3,4,5,5,3,3,4])\n",
    "print(arr[-1])"
   ]
  },
  {
   "cell_type": "code",
   "execution_count": 15,
   "id": "79e0565e-3628-4d24-8ae9-cbab623f2f97",
   "metadata": {},
   "outputs": [
    {
     "name": "stdout",
     "output_type": "stream",
     "text": [
      "3\n"
     ]
    }
   ],
   "source": [
    "print(arr[-2])"
   ]
  },
  {
   "cell_type": "code",
   "execution_count": 16,
   "id": "9c3cb536-5514-4ab9-a1f9-421f3a5245a4",
   "metadata": {},
   "outputs": [
    {
     "name": "stdout",
     "output_type": "stream",
     "text": [
      "5\n"
     ]
    }
   ],
   "source": [
    "print(arr[4])"
   ]
  },
  {
   "cell_type": "code",
   "execution_count": 17,
   "id": "f50580e9-bdfe-4f89-b194-14ea245db09e",
   "metadata": {},
   "outputs": [
    {
     "name": "stdout",
     "output_type": "stream",
     "text": [
      "4\n"
     ]
    }
   ],
   "source": [
    "arr=np.array([[3,4,4,0],[3,4,5,5]])\n",
    "print(arr[0,1])"
   ]
  },
  {
   "cell_type": "code",
   "execution_count": 18,
   "id": "0c92b67a-fb3d-4c9c-a1f0-16b89dc2ded9",
   "metadata": {},
   "outputs": [
    {
     "name": "stdout",
     "output_type": "stream",
     "text": [
      "5\n"
     ]
    }
   ],
   "source": [
    "print(arr[1,3])"
   ]
  },
  {
   "cell_type": "markdown",
   "id": "081ad747-e453-4314-9412-dede8d82b889",
   "metadata": {},
   "source": [
    "Add the first element of Row 1 and last element"
   ]
  },
  {
   "cell_type": "code",
   "execution_count": 25,
   "id": "d16031cb-7bed-419a-b903-9e517186a216",
   "metadata": {},
   "outputs": [
    {
     "name": "stdout",
     "output_type": "stream",
     "text": [
      "sum is:  8\n"
     ]
    }
   ],
   "source": [
    "print(\"sum is: \" , (arr[0,0]+arr[1,3]))"
   ]
  },
  {
   "cell_type": "code",
   "execution_count": 26,
   "id": "9c0d127e-1c16-4cf3-b20c-e2f2a9b03cd8",
   "metadata": {},
   "outputs": [
    {
     "name": "stdout",
     "output_type": "stream",
     "text": [
      "[[[1 3 4 5]\n",
      "  [3 4 4 5]\n",
      "  [3 3 4 5]]]\n"
     ]
    }
   ],
   "source": [
    "arr= np.array([[[1,3,4,5],[3,4,4,5],[3,3,4,5]]])\n",
    "print(arr)"
   ]
  },
  {
   "cell_type": "code",
   "execution_count": 27,
   "id": "cff44820-7a1c-453b-b904-33c56c1f69ad",
   "metadata": {},
   "outputs": [
    {
     "name": "stdout",
     "output_type": "stream",
     "text": [
      "3\n"
     ]
    }
   ],
   "source": [
    "print(arr[0,0,1])"
   ]
  },
  {
   "cell_type": "markdown",
   "id": "ec725958-10d1-46eb-afc5-6b64e183015a",
   "metadata": {},
   "source": [
    "#@SLICING OF NUMPY ARRAY"
   ]
  },
  {
   "cell_type": "code",
   "execution_count": 29,
   "id": "2762c259-0d08-4773-b807-ea126c8ff975",
   "metadata": {},
   "outputs": [
    {
     "name": "stdout",
     "output_type": "stream",
     "text": [
      "[4 4 5]\n"
     ]
    }
   ],
   "source": [
    "arr= np.array([3,4,4,5,6])\n",
    "print(arr[1:4])"
   ]
  },
  {
   "cell_type": "code",
   "execution_count": 31,
   "id": "9a5df30e-705f-49bd-9fc8-d3ae58251464",
   "metadata": {},
   "outputs": [
    {
     "name": "stdout",
     "output_type": "stream",
     "text": [
      "[4 5 4]\n"
     ]
    }
   ],
   "source": [
    "arr=np.array([[3,4,5,5],[3,4,5,4]])\n",
    "print(arr[1][1:4])"
   ]
  },
  {
   "cell_type": "code",
   "execution_count": 38,
   "id": "dfb8786d-edea-4839-9f2d-90e3342b3343",
   "metadata": {},
   "outputs": [
    {
     "name": "stdout",
     "output_type": "stream",
     "text": [
      "[[[1 3 4 5]\n",
      "  [3 3 0 5]]\n",
      "\n",
      " [[3 3 4 5]\n",
      "  [3 3 2 6]]]\n"
     ]
    }
   ],
   "source": [
    "arr=np.array([[[1,3,4,5],[3,3,0,5]],[[3,3,4,5],[3,3,2,6]]])\n",
    "print(arr)"
   ]
  },
  {
   "cell_type": "code",
   "execution_count": 41,
   "id": "3d2f9801-2699-47b3-9552-1c02be4ebfda",
   "metadata": {},
   "outputs": [
    {
     "name": "stdout",
     "output_type": "stream",
     "text": [
      "[3 3 4 5]\n"
     ]
    }
   ],
   "source": [
    "print(arr[1,0,0:4])"
   ]
  },
  {
   "cell_type": "markdown",
   "id": "0a5c2799-2010-4db0-b687-bb52bdeb94b7",
   "metadata": {},
   "source": [
    "DATA TYPES IN NUMPY\n",
    "\n",
    "i-INTEGER\n",
    "b-Boolean\n",
    "u-unsigned integer\n",
    "c-complex float\n",
    "m-timedelta\n",
    "M-datetime\n",
    "O-object\n",
    "S-string\n",
    "U-unicode string\n",
    "V-fixed chunk of memory for other type ( void )"
   ]
  },
  {
   "cell_type": "code",
   "execution_count": 42,
   "id": "e866b8c2-b27f-4ca6-8bcf-22800b3e34bf",
   "metadata": {},
   "outputs": [
    {
     "name": "stdout",
     "output_type": "stream",
     "text": [
      "int32\n"
     ]
    }
   ],
   "source": [
    "arr=np.array([3,43,5,5])\n",
    "print(arr.dtype)"
   ]
  },
  {
   "cell_type": "code",
   "execution_count": 43,
   "id": "44a958fb-7863-4c36-b1fe-24dfce38ecd1",
   "metadata": {},
   "outputs": [
    {
     "name": "stdout",
     "output_type": "stream",
     "text": [
      "<U5\n"
     ]
    }
   ],
   "source": [
    "arr=np.array(['andin','asjdf','skdf'])\n",
    "print(arr.dtype)"
   ]
  },
  {
   "cell_type": "markdown",
   "id": "2b33153d-74b5-4455-8ca2-544bdb261806",
   "metadata": {},
   "source": [
    "Creating arrays with a defined data type"
   ]
  },
  {
   "cell_type": "code",
   "execution_count": 46,
   "id": "82c64e95-7d54-429e-95fe-a9e346936749",
   "metadata": {},
   "outputs": [
    {
     "name": "stdout",
     "output_type": "stream",
     "text": [
      "[b'2' b'2' b'4' b'5']\n",
      "|S1\n"
     ]
    }
   ],
   "source": [
    "arr=np.array([2,2,4,5],dtype='S')\n",
    "print(arr)\n",
    "print(arr.dtype)"
   ]
  },
  {
   "cell_type": "markdown",
   "id": "6af921ed-2d13-4813-b0b6-56afe2dd67b5",
   "metadata": {},
   "source": [
    "create an array with data types 4 bytes integer"
   ]
  },
  {
   "cell_type": "code",
   "execution_count": 48,
   "id": "43de7dda-4cf7-440b-9189-82563390bfc2",
   "metadata": {},
   "outputs": [
    {
     "name": "stdout",
     "output_type": "stream",
     "text": [
      "[2 3 4 5]\n",
      "int32\n"
     ]
    }
   ],
   "source": [
    "arr=np.array([2,3,4,5],dtype='i4')\n",
    "print(arr)\n",
    "print(arr.dtype)"
   ]
  },
  {
   "cell_type": "markdown",
   "id": "ed70b22d-af51-4eea-9fec-2316c5f0b995",
   "metadata": {},
   "source": [
    "Numpy Array Shape"
   ]
  },
  {
   "cell_type": "markdown",
   "id": "37d9fa3b-8bf1-42e1-8889-151632dcb924",
   "metadata": {},
   "source": [
    "print the shape of 2d array"
   ]
  },
  {
   "cell_type": "code",
   "execution_count": 49,
   "id": "997616a7-ec2f-4a65-9791-53131f8164e0",
   "metadata": {},
   "outputs": [
    {
     "name": "stdout",
     "output_type": "stream",
     "text": [
      "(4,)\n"
     ]
    }
   ],
   "source": [
    "arr= np.array([3,43,5,50])\n",
    "print(arr.shape)"
   ]
  },
  {
   "cell_type": "code",
   "execution_count": 50,
   "id": "af22dd2d-d206-414d-a754-b4a06149a373",
   "metadata": {},
   "outputs": [
    {
     "name": "stdout",
     "output_type": "stream",
     "text": [
      "(2, 4)\n"
     ]
    }
   ],
   "source": [
    "arr= np.array([[3,4,4,5],[3,3,3,4]])\n",
    "print(arr.shape)"
   ]
  },
  {
   "cell_type": "code",
   "execution_count": 51,
   "id": "61fd7847-c480-4c98-840f-c5d70bbc3ea9",
   "metadata": {},
   "outputs": [
    {
     "name": "stdout",
     "output_type": "stream",
     "text": [
      "(1, 2, 4)\n"
     ]
    }
   ],
   "source": [
    "arr = np.array([[[3,3,45,3],[3,3,3,3]]])\n",
    "print(arr.shape)"
   ]
  },
  {
   "cell_type": "markdown",
   "id": "7c41578b-3dc4-413d-91b2-378b25e8d737",
   "metadata": {},
   "source": [
    "Joining Numpy Arrays"
   ]
  },
  {
   "cell_type": "code",
   "execution_count": 53,
   "id": "ff3d5e5a-8c31-460f-95e6-b40857e4fab7",
   "metadata": {},
   "outputs": [
    {
     "name": "stdout",
     "output_type": "stream",
     "text": [
      "[1 3 4 5 2 3 4 5]\n"
     ]
    }
   ],
   "source": [
    "arr1= np.array([1,3,4,5])\n",
    "arr2 = np.array([2,3,4,5])\n",
    "\n",
    "arr=np.concatenate((arr1,arr2))\n",
    "\n",
    "print(arr)"
   ]
  },
  {
   "cell_type": "markdown",
   "id": "318bdddf-2e19-4c83-aa6d-cd48d8cb2d0a",
   "metadata": {},
   "source": [
    "Join 2d array"
   ]
  },
  {
   "cell_type": "code",
   "execution_count": 55,
   "id": "ac64c4a9-38e8-4bee-92cc-f5dfb5f7ad9a",
   "metadata": {},
   "outputs": [
    {
     "name": "stdout",
     "output_type": "stream",
     "text": [
      "[[23  3  4  4 23  3 34  4]\n",
      " [ 3  3  3  4  3  3  3  5]]\n"
     ]
    }
   ],
   "source": [
    "arr1= np.array([[23,3,4,4],[3,3,3,4]])\n",
    "arr2= np.array([[23,3,34,4],[3,3,3,5]])\n",
    "\n",
    "arr= np.concatenate((arr1,arr2),axis=1)\n",
    "print(arr)"
   ]
  },
  {
   "cell_type": "code",
   "execution_count": 56,
   "id": "24010b59-877f-404d-ae14-1a4f3e023eaa",
   "metadata": {},
   "outputs": [
    {
     "name": "stdout",
     "output_type": "stream",
     "text": [
      "[[23  3  4  4]\n",
      " [ 3  3  3  4]\n",
      " [23  3 34  4]\n",
      " [ 3  3  3  5]]\n"
     ]
    }
   ],
   "source": [
    "arr1= np.array([[23,3,4,4],[3,3,3,4]])\n",
    "arr2= np.array([[23,3,34,4],[3,3,3,5]])\n",
    "\n",
    "arr= np.concatenate((arr1,arr2),axis=0)\n",
    "print(arr)"
   ]
  },
  {
   "cell_type": "markdown",
   "id": "ff468797-8c6d-4741-8e31-692ea923a5f0",
   "metadata": {},
   "source": [
    "splitting numpy arrays"
   ]
  },
  {
   "cell_type": "markdown",
   "id": "80c083e7-1f0f-4a4b-9f03-88b579406c91",
   "metadata": {},
   "source": [
    "spliting the array in 3 parts "
   ]
  },
  {
   "cell_type": "code",
   "execution_count": 61,
   "id": "c30c681b-502e-4ed5-94c7-2abd8d1088f6",
   "metadata": {},
   "outputs": [
    {
     "name": "stdout",
     "output_type": "stream",
     "text": [
      "[array([1, 3, 4]), array([5, 5, 5]), array([6, 6])]\n"
     ]
    }
   ],
   "source": [
    "arr=np.array([1,3,4,5,5,5,6,6])\n",
    "\n",
    "newarr = np.array_split(arr,3)\n",
    "\n",
    "print(newarr)"
   ]
  },
  {
   "cell_type": "markdown",
   "id": "2d930f7b-efe2-42ca-9b1f-d66846c016c6",
   "metadata": {},
   "source": [
    "spliting the array in 4 parts"
   ]
  },
  {
   "cell_type": "code",
   "execution_count": 62,
   "id": "b8d2d7bb-c8c6-486a-8359-4877f4367c14",
   "metadata": {},
   "outputs": [
    {
     "name": "stdout",
     "output_type": "stream",
     "text": [
      "[array([1, 3]), array([4, 5]), array([5, 5]), array([6, 6])]\n"
     ]
    }
   ],
   "source": [
    "arr=np.array([1,3,4,5,5,5,6,6])\n",
    "\n",
    "newarr = np.array_split(arr,4)\n",
    "\n",
    "print(newarr)"
   ]
  },
  {
   "cell_type": "markdown",
   "id": "6ce22b79-8ee4-4d01-a728-cc3579c5cf6c",
   "metadata": {},
   "source": [
    "Ravel and Flatten:-\n",
    "converts multidimensional arrayvinto 1d array"
   ]
  },
  {
   "cell_type": "code",
   "execution_count": 69,
   "id": "237d7b3e-4a31-4e10-844b-bccc6c891949",
   "metadata": {},
   "outputs": [
    {
     "name": "stdout",
     "output_type": "stream",
     "text": [
      "[[ 2  3 45  4]\n",
      " [ 3  3  3  3]]\n",
      "dimension IS :  2\n",
      "[ 2  3 45  4  3  3  3  3]\n",
      "Now the new dimension is :  1\n"
     ]
    }
   ],
   "source": [
    "m=np.array([[2,3,45,4],[3,3,3,3]])\n",
    "print(m)\n",
    "print(\"dimension IS : \" ,m.ndim)\n",
    "\n",
    "# n=m.ravel\n",
    "p=m.flatten()\n",
    "print(p)\n",
    "# print(n)\n",
    "\n",
    "print(\"Now the new dimension is : \",p.ndim)\n",
    "\n"
   ]
  },
  {
   "cell_type": "markdown",
   "id": "fdc01144-af42-4054-b3b8-f484648cb0d0",
   "metadata": {},
   "source": [
    "Unique Function "
   ]
  },
  {
   "cell_type": "code",
   "execution_count": 71,
   "id": "d973a8b8-2e3a-42cd-be47-d0aaf2937367",
   "metadata": {},
   "outputs": [
    {
     "name": "stdout",
     "output_type": "stream",
     "text": [
      "[ 1  2  3  4  5  3 22  3 34 23  2 23]\n",
      "[ 1  2  3  4  5 22 23 34]\n"
     ]
    }
   ],
   "source": [
    "k= np.array([1,2,3,4,5,3,22,3,34,23,2,23])\n",
    "\n",
    "print(k)\n",
    "\n",
    "x= np.unique(k)\n",
    "print(x)"
   ]
  },
  {
   "cell_type": "code",
   "execution_count": 72,
   "id": "efe2939e-4000-4d21-821c-df0f7f1e77ad",
   "metadata": {},
   "outputs": [
    {
     "name": "stdout",
     "output_type": "stream",
     "text": [
      "[ 1  2  3  4  5  3 22  3 34 23  2 23]\n",
      "(array([ 1,  2,  3,  4,  5, 22, 23, 34]), array([0, 1, 2, 3, 4, 6, 9, 8], dtype=int64))\n"
     ]
    }
   ],
   "source": [
    "k= np.array([1,2,3,4,5,3,22,3,34,23,2,23])\n",
    "\n",
    "print(k)\n",
    "\n",
    "x= np.unique(k,return_index = True)\n",
    "print(x)"
   ]
  },
  {
   "cell_type": "code",
   "execution_count": 74,
   "id": "89480a83-eaa1-4e06-9b7c-2e7af53a843b",
   "metadata": {},
   "outputs": [
    {
     "name": "stdout",
     "output_type": "stream",
     "text": [
      "[ 1  2  3  4  5  3 22  3 34 23  2 23]\n",
      "(array([ 1,  2,  3,  4,  5, 22, 23, 34]), array([0, 1, 2, 3, 4, 6, 9, 8], dtype=int64), array([1, 2, 3, 1, 1, 1, 2, 1], dtype=int64))\n"
     ]
    }
   ],
   "source": [
    "k= np.array([1,2,3,4,5,3,22,3,34,23,2,23])\n",
    "\n",
    "print(k)\n",
    "\n",
    "x= np.unique(k,return_index = True, return_counts= True)\n",
    "print(x)"
   ]
  },
  {
   "cell_type": "markdown",
   "id": "ac0e58f7-3f44-4165-a9a4-1be453d9160f",
   "metadata": {},
   "source": [
    "Delete "
   ]
  },
  {
   "cell_type": "code",
   "execution_count": 78,
   "id": "d48cccf6-c324-4d1e-9dff-ffdd4e706e08",
   "metadata": {},
   "outputs": [
    {
     "data": {
      "text/plain": [
       "array([23,  2,  3, 34,  4])"
      ]
     },
     "execution_count": 78,
     "metadata": {},
     "output_type": "execute_result"
    }
   ],
   "source": [
    "arr = np.array([23,2,32,3,34,4])\n",
    "\n",
    "d= np.delete(arr,[2])\n",
    "d"
   ]
  },
  {
   "cell_type": "code",
   "execution_count": 82,
   "id": "be44c105-8641-4a72-8fb3-35a4e11e91af",
   "metadata": {},
   "outputs": [
    {
     "data": {
      "text/plain": [
       "array([[23,  3,  4,  5]])"
      ]
     },
     "execution_count": 82,
     "metadata": {},
     "output_type": "execute_result"
    }
   ],
   "source": [
    "x= np.array([[23,3,4,5],[3,3,2,2]])\n",
    "\n",
    "d= np.delete(x,1,axis=0)\n",
    "d"
   ]
  },
  {
   "cell_type": "code",
   "execution_count": null,
   "id": "e6db2a1a-e66d-4f54-860c-0632b5e9ab3f",
   "metadata": {},
   "outputs": [],
   "source": []
  }
 ],
 "metadata": {
  "kernelspec": {
   "display_name": "Python 3 (ipykernel)",
   "language": "python",
   "name": "python3"
  },
  "language_info": {
   "codemirror_mode": {
    "name": "ipython",
    "version": 3
   },
   "file_extension": ".py",
   "mimetype": "text/x-python",
   "name": "python",
   "nbconvert_exporter": "python",
   "pygments_lexer": "ipython3",
   "version": "3.11.7"
  }
 },
 "nbformat": 4,
 "nbformat_minor": 5
}
